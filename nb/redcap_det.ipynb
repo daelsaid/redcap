{
 "cells": [
  {
   "cell_type": "code",
   "execution_count": 1,
   "metadata": {
    "collapsed": false
   },
   "outputs": [],
   "source": [
    "#!/usr/bin/env python\n",
    "import pycurl, cStringIO\n",
    "import os\n"
   ]
  },
  {
   "cell_type": "code",
   "execution_count": 2,
   "metadata": {
    "collapsed": false
   },
   "outputs": [
    {
     "ename": "TypeError",
     "evalue": "list or tuple must contain at least one option and one value",
     "output_type": "error",
     "traceback": [
      "\u001b[0;31m---------------------------------------------------------------------------\u001b[0m",
      "\u001b[0;31mTypeError\u001b[0m                                 Traceback (most recent call last)",
      "\u001b[0;32m<ipython-input-2-a989510009a7>\u001b[0m in \u001b[0;36m<module>\u001b[0;34m()\u001b[0m\n\u001b[1;32m     14\u001b[0m \u001b[0mch\u001b[0m \u001b[0;34m=\u001b[0m \u001b[0mpycurl\u001b[0m\u001b[0;34m.\u001b[0m\u001b[0mCurl\u001b[0m\u001b[0;34m(\u001b[0m\u001b[0;34m)\u001b[0m\u001b[0;34m\u001b[0m\u001b[0m\n\u001b[1;32m     15\u001b[0m \u001b[0mch\u001b[0m\u001b[0;34m.\u001b[0m\u001b[0msetopt\u001b[0m\u001b[0;34m(\u001b[0m\u001b[0mch\u001b[0m\u001b[0;34m.\u001b[0m\u001b[0mURL\u001b[0m\u001b[0;34m,\u001b[0m\u001b[0;34m'http://redcap.stanford.edu/api/screen_best_det.php'\u001b[0m\u001b[0;34m)\u001b[0m\u001b[0;34m\u001b[0m\u001b[0m\n\u001b[0;32m---> 16\u001b[0;31m \u001b[0mch\u001b[0m\u001b[0;34m.\u001b[0m\u001b[0msetopt\u001b[0m\u001b[0;34m(\u001b[0m\u001b[0mch\u001b[0m\u001b[0;34m.\u001b[0m\u001b[0mHTTPPOST\u001b[0m\u001b[0;34m,\u001b[0m  \u001b[0mfields\u001b[0m\u001b[0;34m.\u001b[0m\u001b[0mitems\u001b[0m\u001b[0;34m(\u001b[0m\u001b[0;34m)\u001b[0m\u001b[0;34m)\u001b[0m\u001b[0;34m\u001b[0m\u001b[0m\n\u001b[0m\u001b[1;32m     17\u001b[0m \u001b[0;31m# ch.FORM_BUFFER, 'screen_best_det.php',\u001b[0m\u001b[0;34m\u001b[0m\u001b[0;34m\u001b[0m\u001b[0m\n\u001b[1;32m     18\u001b[0m \u001b[0;31m# ch.FORM_BUFFERPTR, 'test',\u001b[0m\u001b[0;34m\u001b[0m\u001b[0;34m\u001b[0m\u001b[0m\n",
      "\u001b[0;31mTypeError\u001b[0m: list or tuple must contain at least one option and one value"
     ]
    }
   ],
   "source": [
    "buf = cStringIO.StringIO()\n",
    "\n",
    "file = '/Users/lillyel-said/Desktop/Stanford/best/redcap/screen_best_det.php'\n",
    "\n",
    "fields = {\n",
    "    'token': ['BE22B1E1DCECC4631C50A7EFC7911EE2'],\n",
    "    'content': 'file',\n",
    "    'action': 'import',\n",
    "    'file': (pycurl.FORM_FILE, file)\n",
    "}\n",
    "\n",
    "fields['returnFormat'] = 'json';\n",
    "\n",
    "ch = pycurl.Curl()\n",
    "ch.setopt(ch.URL,'http://redcap.stanford.edu/api/screen_best_det.php')\n",
    "ch.setopt(ch.HTTPPOST,  fields.items())\n",
    "# ch.FORM_BUFFER, 'screen_best_det.php',\n",
    "# ch.FORM_BUFFERPTR, 'test',\n",
    "ch.setopt(ch.WRITEFUNCTION, buf.write)\n",
    "ch.perform()\n",
    "ch.close()\n",
    "\n",
    "print buf.getvalue()\n",
    "buf.close()\n",
    "\n",
    "\n",
    "# c = pycurl.Curl()\n",
    "# c.setopt(c.URL, 'http://redcap.stanford.edu/api/screen_best_det.php')\n",
    "\n",
    "# c.setopt(c.HTTPPOST, [\n",
    "#     ('/Users/lillyel-said/Desktop/Stanford/best/redcap/screen_best_det.php', (\n",
    "#         # upload the contents of this file\n",
    "#         c.FORM_BUFFER, 'screen_best_det.php',\n",
    "#         c.FORM_BUFFERPTR, 'test',\n",
    "#     )),\n",
    "# ])\n",
    "\n",
    "# c.perform()\n",
    "# c.close()\n",
    "\n"
   ]
  },
  {
   "cell_type": "code",
   "execution_count": 14,
   "metadata": {
    "collapsed": false
   },
   "outputs": [
    {
     "name": "stdout",
     "output_type": "stream",
     "text": [
      "{\"project_id\":\"9088\",\"project_title\":\"BEST PTSD study at the Etkin Lab\",\"creation_time\":\"2016-09-12 14:47:14\",\"production_time\":\"\",\"in_production\":\"0\",\"project_language\":\"English-Stanford\",\"purpose\":\"2\",\"purpose_other\":\"2\",\"project_notes\":\"\",\"custom_record_label\":\"\",\"secondary_unique_field\":\"record_id_main\",\"is_longitudinal\":1,\"surveys_enabled\":\"1\",\"scheduling_enabled\":\"1\",\"record_autonumbering_enabled\":\"1\",\"randomization_enabled\":\"0\",\"ddp_enabled\":\"0\",\"project_irb_number\":\"\",\"project_grant_number\":\"\",\"project_pi_firstname\":\"Amit\",\"project_pi_lastname\":\"Etkin\",\"display_today_now_button\":\"1\"}\n"
     ]
    }
   ],
   "source": [
    "data = {\n",
    "    'token': 'BE22B1E1DCECC4631C50A7EFC7911EE2',\n",
    "    'content': 'project',\n",
    "    'format': 'json',\n",
    "    'returnFormat': 'json'\n",
    "}\n",
    "ch = pycurl.Curl()\n",
    "ch.setopt(ch.URL, 'https://redcap.stanford.edu/api/')\n",
    "ch.setopt(ch.HTTPPOST, data.items())\n",
    "ch.setopt(ch.WRITEFUNCTION, buf.write)\n",
    "ch.perform()\n",
    "ch.close()\n",
    "print buf.getvalue()\n",
    "from config import config\n",
    "import pycurl, cStringIO\n",
    "\n",
    "buf = cStringIO.StringIO()\n",
    "\n",
    "file = '/tmp/test_file.txt'\n",
    "\n",
    "fields = {\n",
    "    'token': config['api_token'],\n",
    "    'content': 'file',\n",
    "    'action': 'import',\n",
    "    'record': 'f21a3ffd37fc0b3c',\n",
    "    'field': 'file_upload',\n",
    "    'event': 'event_1_arm_1',\n",
    "    'file': (pycurl.FORM_FILE, file)\n",
    "}\n",
    "\n",
    "fields['returnFormat'] = 'json';\n",
    "\n",
    "ch = pycurl.Curl()\n",
    "ch.setopt(ch.URL, config['api_url'])\n",
    "ch.setopt(ch.HTTPPOST, fields.items())\n",
    "ch.setopt(ch.WRITEFUNCTION, buf.write)\n",
    "ch.perform()\n",
    "ch.close()\n",
    "\n",
    "print buf.getvalue()\n",
    "buf.close()\n",
    "buf.close()"
   ]
  },
  {
   "cell_type": "code",
   "execution_count": 1,
   "metadata": {
    "collapsed": true
   },
   "outputs": [],
   "source": [
    "from redcap import Project\n",
    "api_url = 'https://redcap.stanford.edu/api/'\n",
    "api_key = 'BE22B1E1DCECC4631C50A7EFC7911EE2'\n",
    "project = Project(api_url, api_key)"
   ]
  },
  {
   "cell_type": "code",
   "execution_count": 2,
   "metadata": {
    "collapsed": false
   },
   "outputs": [
    {
     "name": "stdout",
     "output_type": "stream",
     "text": [
      "field_type not in metadata field:file\n"
     ]
    },
    {
     "ename": "ValueError",
     "evalue": "'file' is not a field or not a 'file' field",
     "output_type": "error",
     "traceback": [
      "\u001b[0;31m---------------------------------------------------------------------------\u001b[0m",
      "\u001b[0;31mValueError\u001b[0m                                Traceback (most recent call last)",
      "\u001b[0;32m<ipython-input-2-23b90f71de52>\u001b[0m in \u001b[0;36m<module>\u001b[0;34m()\u001b[0m\n\u001b[1;32m      1\u001b[0m \u001b[0mfname\u001b[0m \u001b[0;34m=\u001b[0m \u001b[0;34m'/Users/lillyel-said/Desktop/Stanford/best/redcap/screen_best_det.php'\u001b[0m\u001b[0;34m\u001b[0m\u001b[0m\n\u001b[1;32m      2\u001b[0m \u001b[0;32mwith\u001b[0m \u001b[0mopen\u001b[0m\u001b[0;34m(\u001b[0m\u001b[0mfname\u001b[0m\u001b[0;34m,\u001b[0m \u001b[0;34m'r'\u001b[0m\u001b[0;34m)\u001b[0m \u001b[0;32mas\u001b[0m \u001b[0mfobj\u001b[0m\u001b[0;34m:\u001b[0m\u001b[0;34m\u001b[0m\u001b[0m\n\u001b[0;32m----> 3\u001b[0;31m     \u001b[0mproject\u001b[0m\u001b[0;34m.\u001b[0m\u001b[0mimport_file\u001b[0m\u001b[0;34m(\u001b[0m\u001b[0;34m'1'\u001b[0m\u001b[0;34m,\u001b[0m \u001b[0;34m'file'\u001b[0m\u001b[0;34m,\u001b[0m \u001b[0mfname\u001b[0m\u001b[0;34m,\u001b[0m \u001b[0mfobj\u001b[0m\u001b[0;34m)\u001b[0m\u001b[0;34m\u001b[0m\u001b[0m\n\u001b[0m",
      "\u001b[0;32m/Users/lillyel-said/anaconda2/lib/python2.7/site-packages/redcap/project.pyc\u001b[0m in \u001b[0;36mimport_file\u001b[0;34m(self, record, field, fname, fobj, event, return_format)\u001b[0m\n\u001b[1;32m    562\u001b[0m             \u001b[0mresponse\u001b[0m \u001b[0;32mfrom\u001b[0m \u001b[0mserver\u001b[0m \u001b[0;32mas\u001b[0m \u001b[0mspecified\u001b[0m \u001b[0mby\u001b[0m \u001b[0;34m`\u001b[0m\u001b[0;34m`\u001b[0m\u001b[0mreturn_format\u001b[0m\u001b[0;34m`\u001b[0m\u001b[0;34m`\u001b[0m\u001b[0;34m\u001b[0m\u001b[0m\n\u001b[1;32m    563\u001b[0m         \"\"\"\n\u001b[0;32m--> 564\u001b[0;31m         \u001b[0mself\u001b[0m\u001b[0;34m.\u001b[0m\u001b[0m_check_file_field\u001b[0m\u001b[0;34m(\u001b[0m\u001b[0mfield\u001b[0m\u001b[0;34m)\u001b[0m\u001b[0;34m\u001b[0m\u001b[0m\n\u001b[0m\u001b[1;32m    565\u001b[0m         \u001b[0;31m# load up payload\u001b[0m\u001b[0;34m\u001b[0m\u001b[0;34m\u001b[0m\u001b[0m\n\u001b[1;32m    566\u001b[0m         \u001b[0mpl\u001b[0m \u001b[0;34m=\u001b[0m \u001b[0mself\u001b[0m\u001b[0;34m.\u001b[0m\u001b[0m__basepl\u001b[0m\u001b[0;34m(\u001b[0m\u001b[0mcontent\u001b[0m\u001b[0;34m=\u001b[0m\u001b[0;34m'file'\u001b[0m\u001b[0;34m,\u001b[0m \u001b[0mformat\u001b[0m\u001b[0;34m=\u001b[0m\u001b[0mreturn_format\u001b[0m\u001b[0;34m)\u001b[0m\u001b[0;34m\u001b[0m\u001b[0m\n",
      "\u001b[0;32m/Users/lillyel-said/anaconda2/lib/python2.7/site-packages/redcap/project.pyc\u001b[0m in \u001b[0;36m_check_file_field\u001b[0;34m(self, field)\u001b[0m\n\u001b[1;32m    618\u001b[0m         \u001b[0;32mif\u001b[0m \u001b[0;32mnot\u001b[0m \u001b[0;34m(\u001b[0m\u001b[0mis_field\u001b[0m \u001b[0;32mand\u001b[0m \u001b[0mis_file\u001b[0m\u001b[0;34m)\u001b[0m\u001b[0;34m:\u001b[0m\u001b[0;34m\u001b[0m\u001b[0m\n\u001b[1;32m    619\u001b[0m             \u001b[0mmsg\u001b[0m \u001b[0;34m=\u001b[0m \u001b[0;34m\"'%s' is not a field or not a 'file' field\"\u001b[0m \u001b[0;34m%\u001b[0m \u001b[0mfield\u001b[0m\u001b[0;34m\u001b[0m\u001b[0m\n\u001b[0;32m--> 620\u001b[0;31m             \u001b[0;32mraise\u001b[0m \u001b[0mValueError\u001b[0m\u001b[0;34m(\u001b[0m\u001b[0mmsg\u001b[0m\u001b[0;34m)\u001b[0m\u001b[0;34m\u001b[0m\u001b[0m\n\u001b[0m\u001b[1;32m    621\u001b[0m         \u001b[0;32melse\u001b[0m\u001b[0;34m:\u001b[0m\u001b[0;34m\u001b[0m\u001b[0m\n\u001b[1;32m    622\u001b[0m             \u001b[0;32mreturn\u001b[0m \u001b[0mTrue\u001b[0m\u001b[0;34m\u001b[0m\u001b[0m\n",
      "\u001b[0;31mValueError\u001b[0m: 'file' is not a field or not a 'file' field"
     ]
    }
   ],
   "source": [
    "fname = '/Users/lillyel-said/Desktop/Stanford/best/redcap/screen_best_det.php'\n",
    "with open(fname, 'r') as fobj:\n",
    "    project.import_file('1', 'file', fname, fobj)"
   ]
  },
  {
   "cell_type": "code",
   "execution_count": null,
   "metadata": {
    "collapsed": true
   },
   "outputs": [],
   "source": []
  }
 ],
 "metadata": {
  "anaconda-cloud": {},
  "kernelspec": {
   "display_name": "Python [default]",
   "language": "python",
   "name": "python2"
  },
  "language_info": {
   "codemirror_mode": {
    "name": "ipython",
    "version": 2
   },
   "file_extension": ".py",
   "mimetype": "text/x-python",
   "name": "python",
   "nbconvert_exporter": "python",
   "pygments_lexer": "ipython2",
   "version": "2.7.12"
  }
 },
 "nbformat": 4,
 "nbformat_minor": 1
}
