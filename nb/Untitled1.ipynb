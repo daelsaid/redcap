{
  "cells": [
    {
      "cell_type": "code",
      "source": [
        "import os\n",
        "from csv import reader,writer\n",
        "import csv\n",
        "import collections\n",
        "from math import ceil\n",
        "import pandas"
      ],
      "outputs": [],
      "execution_count": null,
      "metadata": {
        "collapsed": true
      }
    },
    {
      "cell_type": "code",
      "source": [
        "reachout_orig=('/Users/lillyel-said/Desktop/downloads/ParticipantReachOutA_2017-05-25_0048/instrument.csv')\n",
        "\n",
        "with open(reachout_orig,'U') as file:          \n",
        "    reachout = reader(file) \n",
        "    reachout= map(list, zip(*reachout))          # zip iterates over the csv file, *operator \n",
        "    reachout_lines = dict((rows[0],rows[1:]) for rows in reachout) \n",
        "    \n",
        "reachout_vars = reachout_lines['Variable / Field Name']"
      ],
      "outputs": [],
      "execution_count": null,
      "metadata": {
        "collapsed": false
      }
    },
    {
      "cell_type": "code",
      "source": [
        "reachout_new=('/Users/lillyel-said/Desktop/downloads/ReachoutAndRecruitme_2017-05-24_2252/instrument_new.csv')\n",
        "\n",
        "with open(reachout_new,'U') as file:          \n",
        "    reachout = reader(file) \n",
        "    reachout= map(list, zip(*reachout))          # zip iterates over the csv file, *operator \n",
        "    reachout_lines_new = dict((rows[0],rows[1:]) for rows in reachout) \n",
        "\nreachout_new_vars = reachout_lines_new['Variable / Field Name']"
      ],
      "outputs": [],
      "execution_count": null,
      "metadata": {
        "collapsed": false
      }
    },
    {
      "cell_type": "code",
      "source": [
        "reachout_new_vars = [x for x in reachout_new_vars]\n",
        "reachout_old_vars = [y for y in reachout_vars]\n",
        "\n",
        "var_not_in_new_reachout=[]\n",
        "for val in reachout_vars:\n",
        "    if val not in reachout_new_vars:\n",
        "        var_not_in_new = val\n",
        "        var_not_in_new_reachout.append(var_not_in_new)"
      ],
      "outputs": [],
      "execution_count": null,
      "metadata": {
        "collapsed": false,
        "scrolled": true
      }
    },
    {
      "cell_type": "code",
      "source": [
        "master_old = ('/Users/lillyel-said/Desktop/downloads/BestMasterold_2017-05-25_1048/master_old.csv')\n",
        "with open(master_old,'U') as file:          \n",
        "    master_old = reader(file) \n",
        "    master_old= map(list, zip(*master_old))          # zip iterates over the csv file, *operator \n",
        "    master_old_lines = dict((rows[0],rows[1:]) for rows in master_old) \n",
        "\nmaster_old_vars = master_old_lines['Variable / Field Name']"
      ],
      "outputs": [],
      "execution_count": null,
      "metadata": {
        "collapsed": false
      }
    },
    {
      "cell_type": "code",
      "source": [
        "master_new = ('/Users/lillyel-said/Desktop/downloads/BestMaster1_2017-05-25_1107/instrument.csv')\n",
        "with open(master_new,'U') as file:          \n",
        "    master_new = reader(file) \n",
        "    master_new = map(list, zip(*master_new))          # zip iterates over the csv file, *operator \n",
        "    master_lines_new = dict((rows[0],rows[1:]) for rows in master_new) \n",
        "\nmaster_new_vars = master_lines_new['Variable / Field Name']"
      ],
      "outputs": [],
      "execution_count": null,
      "metadata": {
        "collapsed": false
      }
    },
    {
      "cell_type": "code",
      "source": [
        "old_master = [old for old in master_old_vars]\n",
        "new_master = [master for master in master_new_vars]\n",
        "\n",
        "variables_not_in_old_master=[]\n",
        "for var in master_old_vars:\n",
        "    if var not in new_master: #and var not in reachout_new_vars and var not in reachout_old_vars:\n",
        "        variables_not_in_old_master.append(var)\n"
      ],
      "outputs": [],
      "execution_count": null,
      "metadata": {
        "collapsed": false
      }
    },
    {
      "cell_type": "code",
      "source": [
        "unique_new_vars_in_master=[]\n",
        "\n",
        "for var2 in variables_not_in_old_master:\n",
        "    if var2 in var_not_in_new_reachout or var2 in  var_not_in_new_reachout or var2 in reachout_old_vars:   # and var2 not in var_not_in_new_reachout:\n",
        "        print 'here'\n",
        "    else:\n",
        "        unique_new_vars_in_master.append(var2)"
      ],
      "outputs": [],
      "execution_count": null,
      "metadata": {
        "collapsed": false,
        "scrolled": true
      }
    },
    {
      "cell_type": "code",
      "source": [
        "print unique_new_vars_in_master"
      ],
      "outputs": [],
      "execution_count": null,
      "metadata": {
        "collapsed": false
      }
    },
    {
      "cell_type": "code",
      "source": [
        "#VARS\n",
        "print reachout_new_vars\n",
        "print reachout_old_vars\n",
        "print var_not_in_new_reachout\n",
        "print master_old_vars\n",
        "print master_new_vars\n",
        "print variables_not_in_old_master\n",
        "print unique_new_vars_in_master"
      ],
      "outputs": [],
      "execution_count": null,
      "metadata": {
        "collapsed": false
      }
    },
    {
      "cell_type": "code",
      "source": [
        "new_edit_dict_csv= ('/Users/lillyel-said/Desktop/downloads/BESTPTSDStudyAtTheEtkinLab_DataDictionary_2017-05-25_1.csv')\n",
        "with open(new_edit_dict_csv,'U') as file:          \n",
        "    new_dict = reader(file) \n",
        "    new_dict = map(list, zip(*new_dict))          # zip iterates over the csv file, *operator \n",
        "    new_dict_lines = dict((rows[0],rows[1:]) for rows in new_dict) \n",
        "\nnew_project_vars = new_dict_lines['Variable / Field Name']"
      ],
      "outputs": [],
      "execution_count": null,
      "metadata": {
        "collapsed": false
      }
    },
    {
      "cell_type": "code",
      "source": [
        "old_edit_dict_csv= ('/Users/lillyel-said/Desktop/downloads/BESTPTSDStudyAtTheEtkinLab_DataDictionary_2017-05-25.csv')\n",
        "\n",
        "with open(old_edit_dict_csv,'U') as file:          \n",
        "    old_dict = reader(file) \n",
        "    old_dict = map(list, zip(*old_dict))          # zip iterates over the csv file, *operator \n",
        "    old_dict_lines = dict((rows[0],rows[1:]) for rows in old_dict) \n",
        "\nold_project_vars = old_dict_lines['Variable / Field Name']"
      ],
      "outputs": [],
      "execution_count": null,
      "metadata": {
        "collapsed": true
      }
    },
    {
      "cell_type": "code",
      "source": [
        "new_project = [new for new in new_project_vars]\n",
        "old_project = [old for old in new_project_vars]\n",
        "\n",
        "for vars_old in old_project_vars:\n",
        "    if vars_old in new_project:\n",
        "        print 'test'\n",
        "    else:\n",
        "        print vars_old"
      ],
      "outputs": [],
      "execution_count": null,
      "metadata": {
        "collapsed": false
      }
    },
    {
      "cell_type": "code",
      "source": [
        "for vars_new in old_project_vars:\n",
        "    if vars_new not in old_project:\n",
        "        print vars_new"
      ],
      "outputs": [],
      "execution_count": null,
      "metadata": {
        "collapsed": true
      }
    },
    {
      "cell_type": "code",
      "source": [],
      "outputs": [],
      "execution_count": null,
      "metadata": {
        "collapsed": true
      }
    }
  ],
  "metadata": {
    "anaconda-cloud": {},
    "kernelspec": {
      "name": "python2",
      "language": "python",
      "display_name": "Python 2"
    },
    "language_info": {
      "mimetype": "text/x-python",
      "nbconvert_exporter": "python",
      "name": "python",
      "pygments_lexer": "ipython2",
      "version": "2.7.12",
      "file_extension": ".py",
      "codemirror_mode": {
        "version": 2,
        "name": "ipython"
      }
    },
    "kernel_info": {
      "name": "python2"
    },
    "nteract": {
      "version": "0.11.6"
    }
  },
  "nbformat": 4,
  "nbformat_minor": 1
}